{
 "cells": [
  {
   "cell_type": "markdown",
   "id": "d66277ff-bb08-48c6-b1b3-21919b700c9b",
   "metadata": {},
   "source": [
    "# Maintaining a batch of populations using the functional EvoTorch API\n",
    "\n",
    "The pure functional algorithm implementations in the namespace `evotorch.algorithms.functional` allow arbitrary batching in terms of starting point, and also in terms of some of the hyperparameters.\n",
    "\n",
    "In this notebook, we demonstrate how a batch of populations, each originated from a different starting point, can be maintained so that different regions of the search space can be explored simultaneously."
   ]
  },
  {
   "cell_type": "markdown",
   "id": "18d7c1eb-3c93-4c05-9044-8cfd9334e5a9",
   "metadata": {},
   "source": [
    "We begin by importing the necessary libraries:"
   ]
  },
  {
   "cell_type": "code",
   "execution_count": null,
   "id": "c5971b63-d6b9-4c02-9669-ab2060af833c",
   "metadata": {},
   "outputs": [],
   "source": [
    "from evotorch.algorithms.functional import cem, cem_ask, cem_tell, pgpe, pgpe_ask, pgpe_tell\n",
    "from evotorch.decorators import rowwise\n",
    "\n",
    "from datetime import datetime\n",
    "import torch\n",
    "from math import pi"
   ]
  },
  {
   "cell_type": "markdown",
   "id": "b27bf93f-0a81-4ee6-b2b4-655a688d1267",
   "metadata": {},
   "source": [
    "Now we define the fitness function.\n",
    "\n",
    "Notice how the fitness function below is decorated via `@rowwise`. This decorator allows us to define the function from the perspective that its argument `x` is a vector (i.e. a 1-dimensional tensor). The decorator `@rowwise` ensures the following behaviors:\n",
    "\n",
    "- if the argument `x` is indeed received as a 1-dimensional tensor, the function works as how it is defined;\n",
    "- if the argument `x` is received as a matrix (i.e. as a 2-dimensional tensor), the operations of the function are applied for each row of the matrix;\n",
    "- if the argument `x` is received as a tensor with 3 or more dimensions, the operations of the function are applied for each row of each matrix.\n",
    "\n",
    "Thanks to this, the fitness function `rastrigin` can be used as it is to evaluate a single solution (represented by a 1-dimensional tensor), a single population (represented by a 2-dimensional tensor), or a batch of populations (represented by a tensor with 3 or more dimensions)."
   ]
  },
  {
   "cell_type": "code",
   "execution_count": null,
   "id": "44738506-c134-46cf-8268-9f88ca358643",
   "metadata": {},
   "outputs": [],
   "source": [
    "@rowwise\n",
    "def rastrigin(x: torch.Tensor) -> torch.Tensor:\n",
    "    [n] = x.shape\n",
    "    A = 10.0\n",
    "    return A * n + torch.sum((x ** 2) - (A * torch.cos(2 * pi * x)))"
   ]
  },
  {
   "cell_type": "markdown",
   "id": "36be528e-fae4-4104-a27a-b255c7facab1",
   "metadata": {},
   "source": [
    "In this example, we consider the following batch size:"
   ]
  },
  {
   "cell_type": "code",
   "execution_count": null,
   "id": "046dd528-ee4c-469a-96f9-a5bef4ca2bd5",
   "metadata": {},
   "outputs": [],
   "source": [
    "batch_size = 4\n",
    "batch_size"
   ]
  },
  {
   "cell_type": "markdown",
   "id": "b9434b49-90c7-439f-81ae-db4ad024cb91",
   "metadata": {},
   "source": [
    "Let us generate a batch of starting points."
   ]
  },
  {
   "cell_type": "code",
   "execution_count": null,
   "id": "e97787a3-8ed6-4db8-8396-1cc3ae19cb59",
   "metadata": {},
   "outputs": [],
   "source": [
    "solution_length = 1000\n",
    "\n",
    "starting_points = ((torch.rand(batch_size, solution_length) * 2) - 1) * 5.12\n",
    "starting_points.shape"
   ]
  },
  {
   "cell_type": "markdown",
   "id": "8b9c759f-a621-4b64-bef1-9a7c1b8aa723",
   "metadata": {},
   "source": [
    "For both functional `cem` and functional `pgpe`, the hyperparameter `stdev_max_change` can be given as a scalar (which then will be expanded to a vector), or as a vector (which then will be used as it is), or as a batch of vectors (which will mean that for each batch item `i`, the `i`-th `stdev_max_change` vector will be used).\n",
    "\n",
    "Since we consider a batch of populations in this example, let us make a batch of `stdev_max_change` vectors, meaning that each population is to be maintained with its own different `stdev_max_change` hyperparameter."
   ]
  },
  {
   "cell_type": "code",
   "execution_count": null,
   "id": "f6f35dd0-eb03-46fd-9f25-e3867fe204a6",
   "metadata": {},
   "outputs": [],
   "source": [
    "smallest_stdev_max_change = 0.01\n",
    "largest_stdev_max_change = 0.2\n",
    "\n",
    "stdev_max_change = (\n",
    "    smallest_stdev_max_change + (\n",
    "        torch.arange(batch_size) * (\n",
    "            (largest_stdev_max_change - smallest_stdev_max_change) / (batch_size - 1)\n",
    "        )\n",
    "    ).reshape(batch_size, 1) * torch.ones(batch_size, solution_length)\n",
    ")\n",
    "\n",
    "print(\"stdev_max_change:\")\n",
    "print(\"    \", type(stdev_max_change).__name__, \"([\", sep=\"\")\n",
    "for i in range(len(stdev_max_change)):\n",
    "    print(\"        [%.4f, ...],\" % float(stdev_max_change[i, 0]))\n",
    "print(\"    ])\")"
   ]
  },
  {
   "cell_type": "code",
   "execution_count": null,
   "id": "3a52cdf2-4aef-45ac-9442-ffab156f7c24",
   "metadata": {},
   "outputs": [],
   "source": [
    "cem_state = cem(\n",
    "    # We want to minimize the evaluation results\n",
    "    objective_sense=\"min\",\n",
    "\n",
    "    # The batch of vectors `starting_points` is given as our `center_init`,\n",
    "    # that is, the center point(s) of the initial search distribution(s).\n",
    "    center_init=starting_points,\n",
    "\n",
    "    # The standard deviation of the initial search distribution(s).\n",
    "    stdev_init=10.0,\n",
    "\n",
    "    # We provide our batch of hyperparameter vectors as `stdev_max_change`.\n",
    "    stdev_max_change=stdev_max_change,\n",
    "\n",
    "    # Solutions belonging to the top half (top 50%) of the population(s)\n",
    "    # will be chosen as parents.\n",
    "    parenthood_ratio=0.5,\n",
    ")\n",
    "\n",
    "cem_state.center.shape"
   ]
  },
  {
   "cell_type": "markdown",
   "id": "2268ffa0-c213-4a21-a7a0-c6f7f2a07230",
   "metadata": {},
   "source": [
    "Below is the main loop of the evolutionary search."
   ]
  },
  {
   "cell_type": "code",
   "execution_count": null,
   "id": "701cda8a-85e4-483a-99a0-3ecc2f3cbaba",
   "metadata": {},
   "outputs": [],
   "source": [
    "# We will run the evolutionary search for this many generations:\n",
    "num_generations = 1500\n",
    "\n",
    "# Interval (in seconds) for printing the status:\n",
    "report_interval = 3\n",
    "last_report_time = datetime.now()\n",
    "\n",
    "for generation in range(1, 1 + num_generations):\n",
    "    # Get a population from the evolutionary algorithm\n",
    "    population = cem_ask(cem_state, popsize=500)\n",
    "\n",
    "    # Compute the fitnesses\n",
    "    fitnesses = rastrigin(population)\n",
    "\n",
    "    # Inform the evolutionary algorithm of the fitnesses and get its next state\n",
    "    cem_state = cem_tell(cem_state, population, fitnesses)\n",
    "\n",
    "    # If it is time to report, print the status\n",
    "    tnow = datetime.now()\n",
    "    if ((tnow - last_report_time).total_seconds() > report_interval) or (generation == num_generations):\n",
    "        print(\"generation:\", generation, \"mean fitnesses:\", torch.mean(fitnesses, dim=-1))\n",
    "        last_report_time = tnow"
   ]
  },
  {
   "cell_type": "markdown",
   "id": "6c6d32a5-c4b0-4497-9a92-e82a9cfdd3c1",
   "metadata": {},
   "source": [
    "Here are the center points found by `cem`:"
   ]
  },
  {
   "cell_type": "code",
   "execution_count": null,
   "id": "b370baa4-70c6-4093-87d0-36fa63eabe19",
   "metadata": {},
   "outputs": [],
   "source": [
    "cem_state.center"
   ]
  },
  {
   "cell_type": "markdown",
   "id": "cc1ceb7d-4c6b-4cdc-a7e8-e52232819b61",
   "metadata": {},
   "source": [
    "Let us now consider the functional `pgpe` algorithm.\n",
    "For `pgpe`, `center_learning_rate` is a hyperparameter which is expected as a scalar in the non-batched case.\n",
    "If it is provided as a vector, this means that for each batch item `i`, the `i`-th value of the `center_learning_rate` vector will be used.\n",
    "\n",
    "Let us build a `center_learning_rate` vector:"
   ]
  },
  {
   "cell_type": "code",
   "execution_count": null,
   "id": "d64a199c-bb51-468e-80dd-393dc0accc9e",
   "metadata": {},
   "outputs": [],
   "source": [
    "smallest_center_lr = 0.001\n",
    "largest_center_lr = 0.4\n",
    "\n",
    "center_learning_rate = smallest_center_lr + (\n",
    "    torch.arange(batch_size) * (\n",
    "        (largest_center_lr - smallest_center_lr) / (batch_size - 1)\n",
    "    )\n",
    ")\n",
    "\n",
    "center_learning_rate"
   ]
  },
  {
   "cell_type": "markdown",
   "id": "0c3bcc5c-471f-49d2-a1f5-0f7ef33ccfeb",
   "metadata": {},
   "source": [
    "Now we prepare the first state of our `pgpe` search:"
   ]
  },
  {
   "cell_type": "code",
   "execution_count": null,
   "id": "9c3674f4-35df-406a-9574-7b1e417717f7",
   "metadata": {},
   "outputs": [],
   "source": [
    "pgpe_state = pgpe(\n",
    "    # We want to minimize the evaluation results.\n",
    "    objective_sense=\"min\",\n",
    "\n",
    "    # The batch of vectors `starting_points` is given as our `center_init`,\n",
    "    # that is, the center point(s) of the initial search distribution(s).\n",
    "    center_init=starting_points,\n",
    "\n",
    "    # Standard deviation for the initial search distribution(s):\n",
    "    stdev_init=10.0,\n",
    "\n",
    "    # We provide our `center_learning_rate` batch here:\n",
    "    center_learning_rate=center_learning_rate,\n",
    "\n",
    "    # Learning rate for the standard deviation(s) of the search distribution(s):\n",
    "    stdev_learning_rate=0.1,\n",
    "\n",
    "    # We use the \"centered\" ranking where the worst solution is ranked -0.5,\n",
    "    # and the best solution is ranked +0.5:\n",
    "    ranking_method=\"centered\",\n",
    "\n",
    "    # We use the ClipUp optimizer.\n",
    "    optimizer=\"clipup\",\n",
    "\n",
    "    # Just like how we provide a batch of `center_learning_rate` values,\n",
    "    # we provide a batch of `max_speed` values for ClipUp:\n",
    "    optimizer_config={\"max_speed\": center_learning_rate * 2},\n",
    "\n",
    "    # Maximum relative change allowed for standard deviation(s) of the\n",
    "    # search distribution(s):\n",
    "    stdev_max_change=0.2,\n",
    ")"
   ]
  },
  {
   "cell_type": "markdown",
   "id": "aad76f22-28dc-42c3-b504-34c585130c49",
   "metadata": {},
   "source": [
    "Below is the main loop of the evolutionary search."
   ]
  },
  {
   "cell_type": "code",
   "execution_count": null,
   "id": "5244f8bd-b3a1-49e7-9ce3-1b78ae649f3b",
   "metadata": {},
   "outputs": [],
   "source": [
    "# We will run the evolutionary search for this many generations:\n",
    "num_generations = 1500\n",
    "\n",
    "# Interval (in seconds) for printing the status:\n",
    "report_interval = 3\n",
    "last_report_time = datetime.now()\n",
    "\n",
    "for generation in range(1, 1 + num_generations):\n",
    "    # Get a population from the evolutionary algorithm\n",
    "    population = pgpe_ask(pgpe_state, popsize=500)\n",
    "\n",
    "    # Compute the fitnesses\n",
    "    fitnesses = rastrigin(population)\n",
    "\n",
    "    # Inform the evolutionary algorithm of the fitnesses and get its next state\n",
    "    pgpe_state = pgpe_tell(pgpe_state, population, fitnesses)\n",
    "\n",
    "    # If it is time to report, print the status\n",
    "    tnow = datetime.now()\n",
    "    if ((tnow - last_report_time).total_seconds() > report_interval) or (generation == num_generations):\n",
    "        print(\"generation:\", generation, \"mean fitnesses:\", torch.mean(fitnesses, dim=-1))\n",
    "        last_report_time = tnow"
   ]
  },
  {
   "cell_type": "markdown",
   "id": "e614ed61-66ab-402a-890b-db376ba46ab8",
   "metadata": {},
   "source": [
    "Here are the center points found by `pgpe`:"
   ]
  },
  {
   "cell_type": "code",
   "execution_count": null,
   "id": "4da70d95-8828-4aac-917b-edb0a19e304f",
   "metadata": {},
   "outputs": [],
   "source": [
    "pgpe_state.optimizer_state.center"
   ]
  }
 ],
 "metadata": {
  "kernelspec": {
   "display_name": "Python 3 (ipykernel)",
   "language": "python",
   "name": "python3"
  },
  "language_info": {
   "codemirror_mode": {
    "name": "ipython",
    "version": 3
   },
   "file_extension": ".py",
   "mimetype": "text/x-python",
   "name": "python",
   "nbconvert_exporter": "python",
   "pygments_lexer": "ipython3",
   "version": "3.9.18"
  }
 },
 "nbformat": 4,
 "nbformat_minor": 5
}
